{
 "cells": [
  {
   "cell_type": "code",
   "execution_count": 1,
   "metadata": {},
   "outputs": [],
   "source": [
    "import cv2,os\n",
    "import numpy as np\n",
    "import csv\n",
    "import glob\n",
    "import matplotlib.pyplot as plt\n",
    "import pandas as pd"
   ]
  },
  {
   "cell_type": "code",
   "execution_count": 2,
   "metadata": {},
   "outputs": [
    {
     "data": {
      "text/html": [
       "<div>\n",
       "<style scoped>\n",
       "    .dataframe tbody tr th:only-of-type {\n",
       "        vertical-align: middle;\n",
       "    }\n",
       "\n",
       "    .dataframe tbody tr th {\n",
       "        vertical-align: top;\n",
       "    }\n",
       "\n",
       "    .dataframe thead th {\n",
       "        text-align: right;\n",
       "    }\n",
       "</style>\n",
       "<table border=\"1\" class=\"dataframe\">\n",
       "  <thead>\n",
       "    <tr style=\"text-align: right;\">\n",
       "      <th></th>\n",
       "      <th>Label</th>\n",
       "      <th>area_1</th>\n",
       "      <th>area_2</th>\n",
       "      <th>area_3</th>\n",
       "      <th>area_4</th>\n",
       "      <th>area_5</th>\n",
       "    </tr>\n",
       "  </thead>\n",
       "  <tbody>\n",
       "  </tbody>\n",
       "</table>\n",
       "</div>"
      ],
      "text/plain": [
       "Empty DataFrame\n",
       "Columns: [Label, area_1, area_2, area_3, area_4, area_5]\n",
       "Index: []"
      ]
     },
     "execution_count": 2,
     "metadata": {},
     "output_type": "execute_result"
    }
   ],
   "source": [
    "df=pd.DataFrame({'Label':[],'area_1':[],'area_2':[],'area_3':[],'area_4':[],'area_5':[]})\n",
    "df.head()"
   ]
  },
  {
   "cell_type": "code",
   "execution_count": 3,
   "metadata": {},
   "outputs": [
    {
     "data": {
      "text/plain": [
       "-1"
      ]
     },
     "execution_count": 3,
     "metadata": {},
     "output_type": "execute_result"
    }
   ],
   "source": [
    "dirList=glob.glob(\"C:/Users/Anusha/Documents/Malaria/cell-images-for-detecting-malaria/cell_images/Uninfected/*\")\n",
    "for img_path in dirList:\n",
    "    im = cv2.imread(img_path)\n",
    "    if im is None:\n",
    "        pass\n",
    "    else:\n",
    "        im = cv2.GaussianBlur(im,(5,5),2)\n",
    "        im_gray = cv2.cvtColor(im,cv2.COLOR_BGR2GRAY)\n",
    "        ret,thresh = cv2.threshold(im_gray,127,255,0)\n",
    "        contours,_ = cv2.findContours(thresh,1,2)\n",
    "        for contour in contours:\n",
    "            cv2.drawContours(im_gray, contours, -1, (0,255,0), 3)\n",
    "        #cv2.imshow(\"window\",im_gray)\n",
    "        l=[]\n",
    "        for i in range(5):\n",
    "            try:\n",
    "                area = cv2.contourArea(contours[i])\n",
    "                l.append(str(area))\n",
    "            except:\n",
    "                l.append(\"0\")\n",
    "        new_row={'Label':\"Uninfected\",'area_1':l[0],'area_2':l[1],'area_3':l[2],'area_4':l[3],'area_5':l[4]}\n",
    "        df = df.append(new_row, ignore_index=True)\n",
    "cv2.waitKey(19000)"
   ]
  },
  {
   "cell_type": "code",
   "execution_count": 4,
   "metadata": {},
   "outputs": [
    {
     "data": {
      "text/plain": [
       "(13779, 6)"
      ]
     },
     "execution_count": 4,
     "metadata": {},
     "output_type": "execute_result"
    }
   ],
   "source": [
    "df.shape"
   ]
  },
  {
   "cell_type": "code",
   "execution_count": 5,
   "metadata": {},
   "outputs": [
    {
     "data": {
      "text/plain": [
       "-1"
      ]
     },
     "execution_count": 5,
     "metadata": {},
     "output_type": "execute_result"
    }
   ],
   "source": [
    "dirList=glob.glob(\"C:/Users/Anusha/Documents/Malaria/cell-images-for-detecting-malaria/cell_images/Parasitized/*\")\n",
    "\n",
    "for img_path in dirList:\n",
    "    im = cv2.imread(img_path)\n",
    "    if im is None:\n",
    "        pass\n",
    "    else:\n",
    "        im = cv2.GaussianBlur(im,(5,5),2)\n",
    "        im_gray = cv2.cvtColor(im,cv2.COLOR_BGR2GRAY)\n",
    "        ret,thresh = cv2.threshold(im_gray,127,255,0)\n",
    "        contours,_ = cv2.findContours(thresh,1,2)\n",
    "        for contour in contours:\n",
    "            cv2.drawContours(im_gray, contours, -1, (0,255,0), 3)\n",
    "        #cv2.imshow(\"window\",im_gray)\n",
    "        l=[]\n",
    "        for i in range(5):\n",
    "            try:\n",
    "                area = cv2.contourArea(contours[i])\n",
    "                l.append(str(area))\n",
    "            except:\n",
    "                l.append(\"0\")\n",
    "        new_row={'Label':\"Parasitized\",'area_1':l[0],'area_2':l[1],'area_3':l[2],'area_4':l[3],'area_5':l[4]}\n",
    "        df = df.append(new_row, ignore_index=True)\n",
    "\n",
    "cv2.waitKey(19000)"
   ]
  },
  {
   "cell_type": "code",
   "execution_count": 6,
   "metadata": {},
   "outputs": [
    {
     "data": {
      "text/plain": [
       "(27558, 6)"
      ]
     },
     "execution_count": 6,
     "metadata": {},
     "output_type": "execute_result"
    }
   ],
   "source": [
    "df.shape"
   ]
  },
  {
   "cell_type": "code",
   "execution_count": 7,
   "metadata": {},
   "outputs": [],
   "source": [
    "df.to_csv(r\"C:/Users/Anusha/Documents/Malaria/csv/dfdataset.csv\",index=False) "
   ]
  },
  {
   "cell_type": "code",
   "execution_count": 1,
   "metadata": {},
   "outputs": [
    {
     "name": "stdout",
     "output_type": "stream",
     "text": [
      "              precision    recall  f1-score   support\n",
      "\n",
      " Parasitized       0.90      0.90      0.90      2731\n",
      "  Uninfected       0.90      0.90      0.90      2781\n",
      "\n",
      "    accuracy                           0.90      5512\n",
      "   macro avg       0.90      0.90      0.90      5512\n",
      "weighted avg       0.90      0.90      0.90      5512\n",
      "\n",
      "0.8998548621190131\n"
     ]
    }
   ],
   "source": [
    "import pandas as pd\n",
    "from sklearn.model_selection import train_test_split\n",
    "from sklearn.ensemble import RandomForestClassifier, AdaBoostClassifier\n",
    "from sklearn import metrics\n",
    "import joblib\n",
    "\n",
    "##Step1: Load Dataset\n",
    "dataframe =pd.read_csv(r\"C:/Users/Anusha/Documents/Malaria/csv/dfdataset.csv\")\n",
    "#print(dataframe.head())\n",
    "\n",
    "##Step2: Split into training and test data\n",
    "x = dataframe.drop([\"Label\"],axis=1)\n",
    "y = dataframe[\"Label\"]\n",
    "x_train, x_test, y_train, y_test = train_test_split(x,y,test_size=0.2,random_state=42)\n",
    "\n",
    "##Step3: Build a model\n",
    "\n",
    "model = RandomForestClassifier(n_estimators=100,max_depth=5)\n",
    "model.fit(x_train,y_train)\n",
    "joblib.dump(model,\"rf_malaria_100_5\")\n",
    "\n",
    "\n",
    "##Step4: Make predictions and get classification report\n",
    "predictions = model.predict(x_test)\n",
    "\n",
    "print(metrics.classification_report(predictions,y_test))\n",
    "print(model.score(x_test,y_test))\n",
    "\n"
   ]
  },
  {
   "cell_type": "code",
   "execution_count": null,
   "metadata": {},
   "outputs": [],
   "source": []
  }
 ],
 "metadata": {
  "kernelspec": {
   "display_name": "Python 3",
   "language": "python",
   "name": "python3"
  },
  "language_info": {
   "codemirror_mode": {
    "name": "ipython",
    "version": 3
   },
   "file_extension": ".py",
   "mimetype": "text/x-python",
   "name": "python",
   "nbconvert_exporter": "python",
   "pygments_lexer": "ipython3",
   "version": "3.7.6"
  }
 },
 "nbformat": 4,
 "nbformat_minor": 4
}
